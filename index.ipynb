{
 "cells": [
  {
   "cell_type": "code",
   "execution_count": null,
   "metadata": {},
   "outputs": [],
   "source": [
    "#hide\n",
    "from forecast_nbdev.core import *"
   ]
  },
  {
   "cell_type": "markdown",
   "metadata": {},
   "source": [
    "# Forecast Notebook\n",
    "\n",
    "## Amazon Forecast Samples\n",
    "\n",
    "This goal of this repository is to provide a common starting point for learning how to use the various features of [Amazon Forecast](https://aws.amazon.com/forecast/). \n",
    "\n",
    "For detailed specifics of any concept mentioned look at the [Forecast developer guide](https://docs.aws.amazon.com/forecast/latest/dg/what-is-forecast.html)\n",
    "\n",
    "In the Notebooks you will learn to:\n",
    "\n",
    "1. Prepare a dataset for use with Amazon Forecast.\n",
    "1. Build models based on that dataset.\n",
    "1. Evaluate a model's performance based on real observations.\n",
    "1. How to evaluate the value of a Forecast compared to another.\n"
   ]
  },
  {
   "cell_type": "code",
   "execution_count": null,
   "metadata": {},
   "outputs": [],
   "source": []
  }
 ],
 "metadata": {
  "kernelspec": {
   "display_name": "Python 3 (Data Science)",
   "language": "python",
   "name": "python3__SAGEMAKER_INTERNAL__arn:aws:sagemaker:us-east-1:081325390199:image/datascience-1.0"
  }
 },
 "nbformat": 4,
 "nbformat_minor": 4
}
